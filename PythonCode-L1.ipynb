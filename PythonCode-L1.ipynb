{
  "nbformat": 4,
  "nbformat_minor": 0,
  "metadata": {
    "colab": {
      "provenance": [],
      "authorship_tag": "ABX9TyNDM0sXbTNQpCdwN8/Mg8iL",
      "include_colab_link": true
    },
    "kernelspec": {
      "name": "python3",
      "display_name": "Python 3"
    },
    "language_info": {
      "name": "python"
    },
    "accelerator": "TPU"
  },
  "cells": [
    {
      "cell_type": "markdown",
      "metadata": {
        "id": "view-in-github",
        "colab_type": "text"
      },
      "source": [
        "<a href=\"https://colab.research.google.com/github/AzeemKhan27/AWT-Remote-Practice/blob/main/PythonCode-L1.ipynb\" target=\"_parent\"><img src=\"https://colab.research.google.com/assets/colab-badge.svg\" alt=\"Open In Colab\"/></a>"
      ]
    },
    {
      "cell_type": "code",
      "execution_count": 1,
      "metadata": {
        "id": "oFGPetLXa8I-"
      },
      "outputs": [],
      "source": [
        "def greet(name):\n",
        "  print(f\"hello,{name}!\")\n",
        "\n",
        "  greet(\"Alice\")\n",
        "  greet(\"Bob\")"
      ]
    },
    {
      "cell_type": "markdown",
      "source": [
        "Arguments in Python\n"
      ],
      "metadata": {
        "id": "bBOMrXjhcfQm"
      }
    },
    {
      "cell_type": "code",
      "source": [
        "def add(a,b):\n",
        "  return a+b\n",
        "  result = add(3,5)\n"
      ],
      "metadata": {
        "id": "cPCB9RQ0cmLn"
      },
      "execution_count": 4,
      "outputs": []
    },
    {
      "cell_type": "markdown",
      "source": [
        "Keywords Arguments\n"
      ],
      "metadata": {
        "id": "w-MyvX7pdLTb"
      }
    },
    {
      "cell_type": "code",
      "source": [
        "print(\"Alice\")"
      ],
      "metadata": {
        "colab": {
          "base_uri": "https://localhost:8080/"
        },
        "id": "Fm_0_e3XdUu0",
        "outputId": "158a9015-300d-409c-f8c0-bfe2e4fa716e"
      },
      "execution_count": 3,
      "outputs": [
        {
          "output_type": "stream",
          "name": "stdout",
          "text": [
            "Alice\n"
          ]
        }
      ]
    },
    {
      "cell_type": "markdown",
      "source": [
        " local and global scope"
      ],
      "metadata": {
        "id": "lIfDZqw9hMol"
      }
    },
    {
      "cell_type": "code",
      "source": [
        "\n",
        "global_variable = 10\n",
        "def modify_global():\n",
        "  global global_variable\n",
        "  global_variable = 20\n",
        "\n",
        "print(\"Before calling modify_global:\",global_variable)\n",
        "modify_global()\n",
        "print(\"After calling modify_global:\",global_variable)"
      ],
      "metadata": {
        "colab": {
          "base_uri": "https://localhost:8080/"
        },
        "id": "BgNH3dvfhd-l",
        "outputId": "73659d34-6a72-484b-cd3e-529e5d23d14b"
      },
      "execution_count": 2,
      "outputs": [
        {
          "output_type": "stream",
          "name": "stdout",
          "text": [
            "Before calling modify_global: 10\n",
            "After calling modify_global: 20\n"
          ]
        }
      ]
    }
  ]
}